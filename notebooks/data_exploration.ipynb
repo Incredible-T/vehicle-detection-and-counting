{
 "cells": [
  {
   "cell_type": "markdown",
   "id": "c04449fc",
   "metadata": {},
   "source": [
    "# Data Exploration Notebook\n",
    "\n",
    "This notebook explores the dataset to understand its structure and distribution.\n"
   ]
  },
  {
   "cell_type": "code",
   "execution_count": null,
   "id": "fe63a7bf",
   "metadata": {},
   "outputs": [],
   "source": [
    "# Import necessary modules\n",
    "import os\n",
    "import matplotlib.pyplot as plt\n",
    "from PIL import Image"
   ]
  },
  {
   "cell_type": "code",
   "execution_count": null,
   "id": "58b0d396",
   "metadata": {},
   "outputs": [],
   "source": [
    "# Explore dataset\n",
    "data_dir = \"../data/train/images\"\n",
    "image_files = os.listdir(data_dir)[:5]\n",
    "for image_file in image_files:\n",
    "    image_path = os.path.join(data_dir, image_file)\n",
    "    image = Image.open(image_path)\n",
    "    plt.imshow(image)\n",
    "    plt.show()"
   ]
  }
 ],
 "metadata": {
  "language_info": {
   "name": "python"
  }
 },
 "nbformat": 4,
 "nbformat_minor": 5
}
