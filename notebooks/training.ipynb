{
 "cells": [
  {
   "cell_type": "markdown",
   "id": "70b59b9a",
   "metadata": {},
   "source": [
    "# Training Notebook\n",
    "\n",
    "This notebook trains the model using the provided dataset.\n"
   ]
  },
  {
   "cell_type": "code",
   "execution_count": null,
   "id": "a621843c",
   "metadata": {},
   "outputs": [],
   "source": [
    "# Import necessary modules\n",
    "import sys\n",
    "\n",
    "sys.path.append(\"../src\")\n",
    "from train_model import train\n",
    "from utils import setup_logging"
   ]
  },
  {
   "cell_type": "code",
   "execution_count": null,
   "id": "6ba44109",
   "metadata": {},
   "outputs": [],
   "source": [
    "# Setup logging\n",
    "setup_logging()"
   ]
  },
  {
   "cell_type": "code",
   "execution_count": null,
   "id": "a675d5bb",
   "metadata": {},
   "outputs": [],
   "source": [
    "# Define training pipeline\n",
    "train(data_path=\"../data/train\", model_save_path=\"../models\")"
   ]
  }
 ],
 "metadata": {
  "language_info": {
   "name": "python"
  }
 },
 "nbformat": 4,
 "nbformat_minor": 5
}
