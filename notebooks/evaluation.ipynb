{
 "cells": [
  {
   "cell_type": "markdown",
   "id": "800839f5",
   "metadata": {},
   "source": [
    "# Evaluation Notebook\n",
    "\n",
    "This notebook evaluates the performance of the trained model.\n"
   ]
  },
  {
   "cell_type": "code",
   "execution_count": null,
   "id": "35d543da",
   "metadata": {},
   "outputs": [],
   "source": [
    "# Import necessary modules\n",
    "import sys\n",
    "\n",
    "sys.path.append(\"../src\")\n",
    "from evaluate_model import evaluate_model\n",
    "from utils import setup_logging\n",
    "import torch\n",
    "from torchvision import datasets, transforms\n",
    "from torch.utils.data import DataLoader"
   ]
  },
  {
   "cell_type": "code",
   "execution_count": null,
   "id": "bb1972f0",
   "metadata": {},
   "outputs": [],
   "source": [
    "# Setup logging\n",
    "setup_logging()"
   ]
  },
  {
   "cell_type": "code",
   "execution_count": null,
   "id": "6b6feeb0",
   "metadata": {},
   "outputs": [],
   "source": [
    "# Define evaluation pipeline\n",
    "transform = transforms.Compose([transforms.Resize((640, 640)), transforms.ToTensor()])\n",
    "test_dataset = datasets.ImageFolder(\"../data/valid/images\", transform=transform)\n",
    "test_loader = DataLoader(test_dataset, batch_size=16, shuffle=False)\n",
    "model = torch.load(\"../models/best_model.pth\")\n",
    "device = torch.device(\"cuda\" if torch.cuda.is_available() else \"cpu\")\n",
    "accuracy = evaluate_model(model, test_loader, device)\n",
    "print(f\"Accuracy: {accuracy:.2f}%\")"
   ]
  }
 ],
 "metadata": {
  "language_info": {
   "name": "python"
  }
 },
 "nbformat": 4,
 "nbformat_minor": 5
}
